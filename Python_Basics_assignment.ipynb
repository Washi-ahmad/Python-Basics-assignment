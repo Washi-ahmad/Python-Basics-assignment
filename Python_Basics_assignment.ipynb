{
  "nbformat": 4,
  "nbformat_minor": 0,
  "metadata": {
    "colab": {
      "provenance": []
    },
    "kernelspec": {
      "name": "python3",
      "display_name": "Python 3"
    },
    "language_info": {
      "name": "python"
    }
  },
  "cells": [
    {
      "cell_type": "code",
      "execution_count": null,
      "metadata": {
        "id": "QrEfDaWrQijY"
      },
      "outputs": [],
      "source": []
    },
    {
      "cell_type": "markdown",
      "source": [
        "1.What is Python?\n",
        " - Python is a high-level, interpreted programming language known for its simplicity and readability. It was created by Guido van Rossum and first released in 1991. Python follows a clear and easy-to-learn syntax, making it a great choice for both beginners and experienced developers.\n",
        "\n",
        "Why is Python Popular?\n",
        " - Python's popularity comes from several key advantages:\n",
        "\n",
        "  - Easy to Learn & Use – Simple and readable syntax, similar to English.\n",
        "  - Versatile – Used in web development, data science, machine learning, automation, and more.\n",
        "  - Large Community & Support – A vast community with extensive libraries and frameworks.\n",
        "  - Cross-Platform – Runs on Windows, macOS, and Linux.\n",
        "  - Automation & Scripting – Great for automating repetitive tasks.\n",
        "  - Strong Library Support – Includes libraries like NumPy, Pandas, TensorFlow, and Django.\n",
        "  - Great for AI & Data Science – Preferred language for artificial intelligence and machine learning."
      ],
      "metadata": {
        "id": "vOLKPl3hQnJb"
      }
    },
    {
      "cell_type": "markdown",
      "source": [
        "2.What is an Interpreter in Python?\n",
        "  - An interpreter in Python is a program that executes Python code line by line, converting it into machine-readable instructions. Unlike compiled languages (e.g., C, Java), where the entire code is compiled before execution, Python's interpreter executes code dynamically, making it easier to debug and modify."
      ],
      "metadata": {
        "id": "5IVKF4zTSBdT"
      }
    },
    {
      "cell_type": "markdown",
      "source": [
        "3.What are pre-defined keywords in Python?\n",
        "\n",
        "  - Pre-Defined Keywords in Python are reserved words that have special meanings and cannot be used as variable names, function names, or identifiers. These keywords define the syntax and structure of Python programs.\n",
        "\n",
        "  \n",
        "Python has 35 pre-defined keywords:\n",
        "  - Control Flow:\tif, elif, else, for, while, break, continue, pass\n",
        "  - Logical:\tTrue, False, None\n",
        "  - Operators:\tand, or, not, in, is\n",
        "  - Functions & Classes:\tdef, return, lambda, class\n",
        "  - Exception Handling:\ttry, except, finally, raise, assert\n",
        "  - Variable Scope:\tglobal, nonlocal, del\n",
        "  - Importing Modules:\timport, from, as\n",
        "  - Other Keywords:\twith, yield, async, await"
      ],
      "metadata": {
        "id": "Z_YZXkuuSyti"
      }
    },
    {
      "cell_type": "markdown",
      "source": [
        "4.Can keywords be used as variable names?\n",
        "  - No, keywords cannot be used as variable names in Python. Since they have predefined meanings, using them as variable names would cause a syntax error."
      ],
      "metadata": {
        "id": "IcF6ysL6UV3h"
      }
    },
    {
      "cell_type": "markdown",
      "source": [
        "5.What is mutability in Python?\n",
        "  - Mutability in Python refers to whether an object’s value can be changed after creation.\n"
      ],
      "metadata": {
        "id": "-RanK3vaU41S"
      }
    },
    {
      "cell_type": "markdown",
      "source": [
        "6.Why are lists mutable, but tuples are immutable?\n",
        "  - Lists Are Mutable: Why?\n",
        "   - Lists use dynamic memory allocation, meaning their elements can be changed, added, or removed.\n",
        "    - Each element in a list is stored as a reference, so modifications affect the original list.\n",
        "   - Lists are designed for flexibility and frequent modifications.\n",
        "\n",
        "\n",
        "\n",
        "  - Tuples Are Immutable: Why?\n",
        "   - Tuples use fixed memory allocation, meaning their elements cannot be changed after creation.\n",
        "    - They are stored in a way that prevents modifications, making them faster    and more memory-efficient.\n",
        "    - Tuples are designed for data integrity, ensuring values remain constant."
      ],
      "metadata": {
        "id": "Yl65kyvoVKwJ"
      }
    },
    {
      "cell_type": "markdown",
      "source": [
        "7.What is the difference between “==” and “is” operators in Python?\n",
        "  - == (Equality Operator):\n",
        "    - Checks if two objects have the same value (content comparison)\n",
        "    - Does not check if they are the same object in memory\n",
        "\n",
        "  - is (Identity Operator):\n",
        "   - Checks if two objects refer to the same memory location (identity comparison).\n",
        "    - Does not compare values.\n"
      ],
      "metadata": {
        "id": "5NbKlMPAWSoZ"
      }
    },
    {
      "cell_type": "markdown",
      "source": [
        "8.What are logical operators in Python?\n",
        "  - In Python, logical operators are used to combine conditional statements. They return True or False based on the logical relationship between the operands.\n",
        "  Python has three logical operators:\n",
        "    - and (Logical AND) : Returns True if both operands are True, otherwise False.\n",
        "    - or (Logical OR): Returns True if at least one operand is True, otherwise False.\n",
        "    - not (Logical NOT): Reverses the boolean value of an operand."
      ],
      "metadata": {
        "id": "zaZa9qLcqsIu"
      }
    },
    {
      "cell_type": "markdown",
      "source": [
        "9.What is type casting in Python?\n",
        "\n",
        "  - Type casting in Python is the process of converting a variable from one data type to another. Python provides two types of type casting:\n",
        "   - (i) Implicit Type Casting (Automatic):\n",
        "Python automatically converts a smaller data type into a larger one to prevent data loss.\n",
        "    - (ii)  Explicit Type Casting (Manual):\n",
        "Done using built-in functions to convert data types manually."
      ],
      "metadata": {
        "id": "ECBxkTFbrtPO"
      }
    },
    {
      "cell_type": "markdown",
      "source": [
        "10.What is the difference between implicit and explicit type casting?\n",
        "  - The difference between implicit and explicit type casting in Python is:\n",
        "  - (i) Implicit Type Casting (Automatic Conversion):\n",
        "    - Python automatically converts a smaller data type into a larger one to  avoid data loss.\n",
        "    - No manual intervention is required.\n",
        "   - Happens in operations between different data types where conversion is safe.\n",
        "\n",
        "\n",
        "  - (ii) Explicit Type Casting (Manual Conversion):\n",
        "    - Done manually using built-in functions (int(), float(), str(), etc.).\n",
        "    - Used when automatic conversion is not possible or safe.\n",
        "    - May result in data loss or errors if not done correctly."
      ],
      "metadata": {
        "id": "jM50qT0DsUkE"
      }
    },
    {
      "cell_type": "markdown",
      "source": [
        "11.What is the purpose of conditional statements in Python?\n",
        "  - The purpose of conditional statements in Python is to allow the program to make decisions based on certain conditions or criteria. They enable the execution of specific blocks of code depending on whether a condition is True or False.\n",
        "  - Purpose of Conditional Statements:\n",
        "\n",
        "    - Decision-making: Allows the program to choose different actions based on input or runtime data.\n",
        "   - Control flow: Determines the order in which code is executed, ensuring that only certain blocks of code are run depending on conditions.\n",
        "    - Branching logic: Facilitates complex decision-making, where multiple outcomes are possible, such as user input validation, error handling, or controlling loops.\n",
        "\n"
      ],
      "metadata": {
        "id": "3rt8IBuwuQiN"
      }
    },
    {
      "cell_type": "markdown",
      "source": [
        "12.How does the elif statement work?\n",
        "  - The elif (short for \"else if\") statement in Python is used to check multiple conditions sequentially, allowing the program to choose between several possible outcomes. It follows an if statement and allows you to check additional conditions if the initial if condition is False.\n",
        "  - How it works:\n",
        "    - The if statement is evaluated first. If it's True, the corresponding block of code is executed, and the rest of the conditions are skipped.\n",
        "    - If the if condition is False, Python moves to the next elif statement and checks its condition.\n",
        "    - If the elif condition is True, the associated block of code is executed.\n",
        "    - If no if or elif conditions are True, the else block (if present) is executed.\n",
        "\n",
        "  Key points:\n",
        "   - The program checks the conditions in order.\n",
        "    - Only the first True condition's block is executed. The others are skipped.\n",
        "    - elif can be used multiple times, and there can be at most one else block at the end.\n",
        "\n",
        "  -The elif statement is useful for handling multiple different cases in a clean and readable way without having to write multiple nested if statements."
      ],
      "metadata": {
        "id": "jTUFKLPGwL4E"
      }
    },
    {
      "cell_type": "markdown",
      "source": [
        "13.What is the difference between for and while loops?\n",
        "  - The main difference between for and while loops in Python lies in how the loops control the iteration process:\n",
        "  - for Loop:\n",
        "   - The for loop is used when you know in advance how many times you want to execute a block of code (i.e., the number of iterations).\n",
        "    - It is commonly used to iterate over sequences like lists, tuples, strings, or ranges.\n",
        "    - The loop automatically handles the iteration and stops when the sequence is exhausted.\n",
        "  -while Loop:\n",
        "    - The while loop is used when the number of iterations is not known beforehand and depends on a condition being True.\n",
        "    - The loop continues to execute as long as the condition evaluates to True, and it stops when the condition becomes False.\n",
        "    - You need to ensure that the loop eventually terminates by modifying the condition inside the loop, or it can result in an infinite loop.\n",
        "\n",
        "  \n",
        "  - When to use:\n",
        "    - for loop: Use it when you know the exact number of iterations or when working with a fixed collection of items.\n",
        "    \n",
        "    - while loop: Use it when you don't know the number of iterations in advance and need to keep checking a condition."
      ],
      "metadata": {
        "id": "swkWJuiSxYlM"
      }
    },
    {
      "cell_type": "markdown",
      "source": [
        "14.Describe a scenario where a while loop is more suitable than a for loop.\n",
        "  - A while loop is more suitable when you don't know the exact number of iterations in advance and need to repeatedly execute a block of code as long as a certain condition is met.\n",
        "\n",
        "  - Scenario: User Input Validation\n",
        "    - Imagine you are building a program where you need to ask a user for their age. You want to continue prompting the user until they provide a valid age (a positive integer). In this case, you don't know how many times the user might need to be asked, so a while loop is ideal.\n",
        "\n",
        "  - Explanation:\n",
        "    - The loop runs indefinitely until the user provides a valid input (age must be a positive integer).\n",
        "    - The condition while True: ensures that the loop will keep running until the user provides the correct input and the break statement exits the loop.\n",
        "    - Since you don't know how many attempts the user will take, this is an ideal case for a while loop.\n",
        "  \n",
        "  - In this scenario, a for loop wouldn't be suitable because we can't predict how many times the user will need to be asked. The while loop is more flexible for situations where the iteration depends on a condition."
      ],
      "metadata": {
        "id": "21zN_i5AzNHk"
      }
    },
    {
      "cell_type": "code",
      "source": [
        "# Practical Question:\n"
      ],
      "metadata": {
        "id": "-1aQPVIfzT9u"
      },
      "execution_count": null,
      "outputs": []
    },
    {
      "cell_type": "code",
      "source": [
        "# 1. Write a Python program to print \"Hello, World!\"\n",
        "print(\"Hello, World!\")"
      ],
      "metadata": {
        "colab": {
          "base_uri": "https://localhost:8080/"
        },
        "id": "Llrw0vOD0hSu",
        "outputId": "126b86cb-40ae-46b7-8fad-ad3beddbc42d"
      },
      "execution_count": 5,
      "outputs": [
        {
          "output_type": "stream",
          "name": "stdout",
          "text": [
            "Hello, World!\n"
          ]
        }
      ]
    },
    {
      "cell_type": "code",
      "source": [
        "# 2. Write a Python program that displays your name and age.\n",
        "name = input(\"Enter your name: \")\n",
        "age = input(\"Enter your age: \")\n",
        "print(\"Name:\", name)\n",
        "print(\"Age:\", age)"
      ],
      "metadata": {
        "colab": {
          "base_uri": "https://localhost:8080/"
        },
        "id": "U-MbYZ6DzqaG",
        "outputId": "6f4e18bb-10b2-4668-feb7-3397fd755cd1"
      },
      "execution_count": 2,
      "outputs": [
        {
          "output_type": "stream",
          "name": "stdout",
          "text": [
            "Enter your name: Washi\n",
            "Enter your age: 27\n",
            "Name: Washi\n",
            "Age: 27\n"
          ]
        }
      ]
    },
    {
      "cell_type": "code",
      "source": [
        "# 3. Write code to print all the pre-defined keywords in Python using the keyword library.\n",
        "import keyword\n",
        "print(keyword.kwlist)"
      ],
      "metadata": {
        "colab": {
          "base_uri": "https://localhost:8080/"
        },
        "id": "9o8paC_Q05z1",
        "outputId": "08702869-59ec-41dd-b482-1cd3f9124ae5"
      },
      "execution_count": 6,
      "outputs": [
        {
          "output_type": "stream",
          "name": "stdout",
          "text": [
            "['False', 'None', 'True', 'and', 'as', 'assert', 'async', 'await', 'break', 'class', 'continue', 'def', 'del', 'elif', 'else', 'except', 'finally', 'for', 'from', 'global', 'if', 'import', 'in', 'is', 'lambda', 'nonlocal', 'not', 'or', 'pass', 'raise', 'return', 'try', 'while', 'with', 'yield']\n"
          ]
        }
      ]
    },
    {
      "cell_type": "code",
      "source": [
        "# 4. Write a program that checks if a given word is a Python keyword.\n",
        "import keyword\n",
        "\n",
        "word = input(\"Enter a word: \")\n",
        "if keyword.iskeyword(word):\n",
        "    print(f\"{word} is a Python keyword.\")\n",
        "else:\n",
        "    print(f\"{word} is not a Python keyword.\")\n"
      ],
      "metadata": {
        "colab": {
          "base_uri": "https://localhost:8080/"
        },
        "id": "pdD9qNJx1CJd",
        "outputId": "ba2dfc31-4092-46d4-de40-8137fb2dcbe2"
      },
      "execution_count": 7,
      "outputs": [
        {
          "output_type": "stream",
          "name": "stdout",
          "text": [
            "Enter a word: true\n",
            "true is not a Python keyword.\n"
          ]
        }
      ]
    },
    {
      "cell_type": "code",
      "source": [
        "# 5. Create a list and tuple in Python, and demonstrate how attempting to change an element works differently for each.\n",
        "my_list = [1, 2, 3]\n",
        "my_list[0] = 100  # Allowed\n",
        "print(\"Modified List:\", my_list)\n",
        "\n"
      ],
      "metadata": {
        "colab": {
          "base_uri": "https://localhost:8080/"
        },
        "id": "TAOnDPQH2rY9",
        "outputId": "3f2a22ea-6a35-499b-bee7-94eec57ff0a5"
      },
      "execution_count": 14,
      "outputs": [
        {
          "output_type": "stream",
          "name": "stdout",
          "text": [
            "Modified List: [100, 2, 3]\n"
          ]
        }
      ]
    },
    {
      "cell_type": "code",
      "source": [
        "my_tuple = (1, 2, 3)\n",
        "try:\n",
        "    my_tuple[0] = 100  # Not allowed"
      ],
      "metadata": {
        "id": "N4ZnuBf637nt"
      },
      "execution_count": null,
      "outputs": []
    },
    {
      "cell_type": "code",
      "source": [
        "# 6. Write a function to demonstrate the behavior of mutable and immutable arguments.\n",
        "def modify_data(mutable_list, immutable_var):\n",
        "    mutable_list.append(4)  # List is mutable\n",
        "    immutable_var += 1  # Integer is immutable\n",
        "    print(\"Inside function:\", mutable_list, immutable_var)\n",
        "\n",
        "my_list = [1, 2, 3]\n",
        "my_int = 10\n",
        "modify_data(my_list, my_int)\n",
        "print(\"Outside function:\", my_list, my_int)"
      ],
      "metadata": {
        "colab": {
          "base_uri": "https://localhost:8080/"
        },
        "id": "jLDN3qQG4CHE",
        "outputId": "1a45df16-06a0-48ad-9686-42f8417a5cb3"
      },
      "execution_count": 16,
      "outputs": [
        {
          "output_type": "stream",
          "name": "stdout",
          "text": [
            "Inside function: [1, 2, 3, 4] 11\n",
            "Outside function: [1, 2, 3, 4] 10\n"
          ]
        }
      ]
    },
    {
      "cell_type": "code",
      "source": [
        "# 7. Write a function to demonstrate the behavior of mutable and immutable arguments.\n",
        "# same question repeated of above one."
      ],
      "metadata": {
        "id": "lbyv7Qql6BG0"
      },
      "execution_count": null,
      "outputs": []
    },
    {
      "cell_type": "code",
      "source": [
        "# 8.Write a program to demonstrate the use of logical operators.\n",
        "a = True\n",
        "b = False\n",
        "print(\"AND:\", a and b)\n",
        "print(\"OR:\", a or b)\n",
        "print(\"NOT a:\", not a)"
      ],
      "metadata": {
        "colab": {
          "base_uri": "https://localhost:8080/"
        },
        "id": "ozBo0N9d6Pzc",
        "outputId": "52590f00-04fa-4f27-aeb4-64cb60062f82"
      },
      "execution_count": 17,
      "outputs": [
        {
          "output_type": "stream",
          "name": "stdout",
          "text": [
            "AND: False\n",
            "OR: True\n",
            "NOT a: False\n"
          ]
        }
      ]
    },
    {
      "cell_type": "code",
      "source": [
        "# 9. Write a Python program to convert user input from string to integer, float, and boolean types.\n",
        "user_input = input(\"Enter a value: \")\n",
        "int_value = int(user_input)\n",
        "float_value = float(user_input)\n",
        "bool_value = bool(user_input)\n",
        "print(\"Integer:\", int_value)\n",
        "print(\"Float:\", float_value)\n",
        "print(\"Boolean:\", bool_value)"
      ],
      "metadata": {
        "colab": {
          "base_uri": "https://localhost:8080/"
        },
        "id": "Hrxg8br66pBE",
        "outputId": "0670980b-11fd-4296-9e42-4f4993c0c614"
      },
      "execution_count": 19,
      "outputs": [
        {
          "output_type": "stream",
          "name": "stdout",
          "text": [
            "Enter a value: 52\n",
            "Integer: 52\n",
            "Float: 52.0\n",
            "Boolean: True\n"
          ]
        }
      ]
    },
    {
      "cell_type": "code",
      "source": [
        "# 10. Write code to demonstrate type casting with list elements.\n",
        "my_list = [\"1\", \"2\", \"3\"]\n",
        "int_list = list(map(int, my_list))\n",
        "print(int_list)"
      ],
      "metadata": {
        "colab": {
          "base_uri": "https://localhost:8080/"
        },
        "id": "gRBxyi8P7E11",
        "outputId": "96c66d6c-9ada-41a4-90f7-311f0070e3ae"
      },
      "execution_count": 22,
      "outputs": [
        {
          "output_type": "stream",
          "name": "stdout",
          "text": [
            "[1, 2, 3]\n"
          ]
        }
      ]
    },
    {
      "cell_type": "code",
      "source": [
        "# 11. Write a program that checks if a number is positive, negative, or zero.\n",
        "num = int(input(\"Enter a number: \"))\n",
        "if num > 0:\n",
        "    print(\"Positive\")\n",
        "elif num < 0:\n",
        "    print(\"Negative\")\n",
        "else:\n",
        "    print(\"Zero\")"
      ],
      "metadata": {
        "colab": {
          "base_uri": "https://localhost:8080/"
        },
        "id": "goPsMU0z7cum",
        "outputId": "ac762f02-0236-400e-f78e-54cc10fa67c1"
      },
      "execution_count": 23,
      "outputs": [
        {
          "output_type": "stream",
          "name": "stdout",
          "text": [
            "Enter a number: 3\n",
            "Positive\n"
          ]
        }
      ]
    },
    {
      "cell_type": "code",
      "source": [
        "# 12.  Write a for loop to print numbers from 1 to 10.\n",
        "for i in range(1, 11):\n",
        "    print(i)"
      ],
      "metadata": {
        "colab": {
          "base_uri": "https://localhost:8080/"
        },
        "id": "aamf7f6p7p8j",
        "outputId": "7c03ed20-8c5a-4e81-ef38-1d5e4298edc6"
      },
      "execution_count": 24,
      "outputs": [
        {
          "output_type": "stream",
          "name": "stdout",
          "text": [
            "1\n",
            "2\n",
            "3\n",
            "4\n",
            "5\n",
            "6\n",
            "7\n",
            "8\n",
            "9\n",
            "10\n"
          ]
        }
      ]
    },
    {
      "cell_type": "code",
      "source": [
        "# 13.Write a Python program to find the sum of all even numbers between 1 and 50.\n",
        "total = sum(i for i in range(1, 51) if i % 2 == 0)\n",
        "print(\"Sum of even numbers:\", total)"
      ],
      "metadata": {
        "colab": {
          "base_uri": "https://localhost:8080/"
        },
        "id": "4ewQXEh677vk",
        "outputId": "879ff442-f455-425a-c1aa-71474d522b4c"
      },
      "execution_count": 25,
      "outputs": [
        {
          "output_type": "stream",
          "name": "stdout",
          "text": [
            "Sum of even numbers: 650\n"
          ]
        }
      ]
    },
    {
      "cell_type": "code",
      "source": [
        "# 14. Write a program to reverse a string using a while loop.\n",
        "s = input(\"Enter a string: \")\n",
        "reversed_s = \"\"\n",
        "i = len(s) - 1\n",
        "while i >= 0:\n",
        "    reversed_s += s[i]\n",
        "    i -= 1\n",
        "print(\"Reversed string:\", reversed_s)"
      ],
      "metadata": {
        "colab": {
          "base_uri": "https://localhost:8080/"
        },
        "id": "2jKsfYuE8IpT",
        "outputId": "9aaf65f0-a407-4432-db79-e640b63980b7"
      },
      "execution_count": 26,
      "outputs": [
        {
          "output_type": "stream",
          "name": "stdout",
          "text": [
            "Enter a string: washi\n",
            "Reversed string: ihsaw\n"
          ]
        }
      ]
    },
    {
      "cell_type": "code",
      "source": [
        "# 15. Write a Python program to calculate the factorial of a number provided by the user using a while loop.\n",
        "num = int(input(\"Enter a number: \"))\n",
        "factorial = 1\n",
        "i = 1\n",
        "while i <= num:\n",
        "    factorial *= i\n",
        "    i += 1\n",
        "print(\"Factorial:\", factorial)"
      ],
      "metadata": {
        "colab": {
          "base_uri": "https://localhost:8080/"
        },
        "id": "aXOot5ZO8Xyz",
        "outputId": "36bb3350-9318-476f-d23d-117dbb6d0ae6"
      },
      "execution_count": 31,
      "outputs": [
        {
          "output_type": "stream",
          "name": "stdout",
          "text": [
            "Enter a number: 5\n",
            "Factorial: 120\n"
          ]
        }
      ]
    }
  ]
}